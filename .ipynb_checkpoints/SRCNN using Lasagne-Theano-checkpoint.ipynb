{
 "cells": [
  {
   "cell_type": "markdown",
   "metadata": {},
   "source": [
    "## Simple code for our own work.\n",
    "\n",
    "### TODO\n",
    "\n",
    "1) take images.\n",
    "\n",
    "2) convert to Ycbcr.Data formation, sub-sampling.\n",
    "\n",
    "3) fix number of intereior filters and make convo graph\n",
    "\n",
    "4) make the los function\n",
    "\n",
    "5) backprop for optimal solution\n",
    "\n",
    "### Data formation\n"
   ]
  },
  {
   "cell_type": "code",
   "execution_count": 139,
   "metadata": {
    "collapsed": false
   },
   "outputs": [],
   "source": [
    "## Load the data files\n",
    "import sys\n",
    "import os\n",
    "h_r_folder_name = 'image-dataset/h_r'\n",
    "l_r_folder_name = 'image-dataset/l_r'\n",
    "h_r_files_list = os.listdir(h_r_folder_name)\n",
    "l_r_files_list = os.listdir(l_r_folder_name)\n",
    "h_r_files_list = [h_r_folder_name+'/'+ x for x in h_r_files_list]\n",
    "l_r_files_list = [l_r_folder_name+'/'+ x for x in l_r_files_list]"
   ]
  },
  {
   "cell_type": "code",
   "execution_count": 140,
   "metadata": {
    "collapsed": true
   },
   "outputs": [],
   "source": [
    "# lets see some files\n",
    "img_hr = cv2.imread(h_r_files_list[3])\n",
    "img_lr = cv2.imread(l_r_files_list[3])\n",
    "cv2.imshow('image',img_lr)\n",
    "cv2.imshow('image2',img_hr)\n",
    "cv2.waitKey(0)\n",
    "cv2.destroyAllWindows()"
   ]
  },
  {
   "cell_type": "code",
   "execution_count": 141,
   "metadata": {
    "collapsed": true
   },
   "outputs": [],
   "source": [
    "# Now if we apply the Ycbcr tranformation, they would be converted to the other color system\n",
    "# which would be (wrongly) represented in the RGB color system as the follow\n",
    "img_lr = cv2.cvtColor(img_lr, cv2.COLOR_BGR2YCR_CB)\n",
    "img_hr = cv2.cvtColor(img_hr, cv2.COLOR_BGR2YCR_CB)\n",
    "cv2.imshow('image',img_lr)\n",
    "cv2.imshow('image2',img_hr)\n",
    "cv2.waitKey(0)\n",
    "cv2.destroyAllWindows()"
   ]
  },
  {
   "cell_type": "code",
   "execution_count": 160,
   "metadata": {
    "collapsed": true
   },
   "outputs": [],
   "source": [
    "img_lr = cv2.cvtColor(img_lr, cv2.COLOR_YCR_CB2BGR)"
   ]
  },
  {
   "cell_type": "code",
   "execution_count": 143,
   "metadata": {
    "collapsed": false
   },
   "outputs": [
    {
     "data": {
      "text/plain": [
       "(320L, 480L, 3L)"
      ]
     },
     "execution_count": 143,
     "metadata": {},
     "output_type": "execute_result"
    }
   ],
   "source": [
    "# The shape of the files right now is \n",
    "np.shape(img_hr)\n",
    "# we will be changing it to (3L,32L,32L) where 32 is the sub-image size"
   ]
  },
  {
   "cell_type": "code",
   "execution_count": 172,
   "metadata": {
    "collapsed": false
   },
   "outputs": [],
   "source": [
    "# Now we need to zoom the low resolution image using bicubic interpolation\n",
    "# and convert them to Ycbcr format\n",
    "# Along with that we need to make subsample pairs\n",
    "\n",
    "import numpy as np\n",
    "import cv2\n",
    "no_of_files = len(h_r_files_list)\n",
    "\n",
    "## For subsampling, let the subsamples have the image size 80px*80px\n",
    "subimg_length = 64\n",
    "stride_length = 64\n",
    "stride_height = 64\n",
    "subimg_height = 64\n",
    "\n",
    "sample_img = cv2.imread(h_r_files_list[0])\n",
    "subimg_for_length = int(np.shape(sample_img)[0])/(subimg_length+stride_length)\n",
    "subimg_for_height = int(np.shape(sample_img)[1])/(subimg_height+stride_height)\n",
    "\n",
    "# Final arrays \n",
    "X = np.ndarray(shape = (no_of_files*subimg_for_length*subimg_for_height,subimg_length,subimg_height,3))\n",
    "Y = np.ndarray(shape = (no_of_files*subimg_for_length*subimg_for_height,subimg_length,subimg_height,3)) "
   ]
  },
  {
   "cell_type": "code",
   "execution_count": 176,
   "metadata": {
    "collapsed": false
   },
   "outputs": [],
   "source": [
    "for i in range(no_of_files):\n",
    "    # Zooming the images\n",
    "    img_lr = cv2.imread(l_r_files_list[i])\n",
    "    img_lr_zoomed = cv2.resize(img_lr, None,fx=2,fy=2, interpolation = cv2.INTER_CUBIC)\n",
    "    img_hr = cv2.imread(h_r_files_list[i])\n",
    "    # Now we need to convert it to YCbCr\n",
    "    img_lr_zoomed = cv2.cvtColor(img_lr_zoomed, cv2.COLOR_BGR2YCR_CB)\n",
    "    img_hr = cv2.cvtColor(img_hr, cv2.COLOR_BGR2YCR_CB)\n",
    "    #img_lr_zoomed.resize(3,480,320)\n",
    "    #img_hr.resize(3,480,320)\n",
    "    # Now we need to make subsamples\n",
    "    for j in range(subimg_for_length):\n",
    "        for k in range(subimg_for_height):\n",
    "            img_current_lr = img_lr_zoomed[j*(stride_length+ subimg_length):j*(stride_length+ subimg_length)+subimg_length,\n",
    "                                           k*(stride_height+ subimg_height):k*(stride_height+ subimg_height)+subimg_height,:]\n",
    "            img_current_hr = img_hr[j*(stride_length+ subimg_length):j*(stride_length+ subimg_length)+subimg_length,\n",
    "                                    k*(stride_height+ subimg_height):k*(stride_height+ subimg_height)+subimg_height,:]\n",
    "            X[i*subimg_for_height*subimg_for_length+j*subimg_for_height +k] = img_current_lr\n",
    "            Y[i*subimg_for_height*subimg_for_length+j*subimg_for_height +k] = img_current_hr"
   ]
  },
  {
   "cell_type": "code",
   "execution_count": 184,
   "metadata": {
    "collapsed": false
   },
   "outputs": [
    {
     "data": {
      "text/plain": [
       "(64L, 64L, 3L)"
      ]
     },
     "execution_count": 184,
     "metadata": {},
     "output_type": "execute_result"
    }
   ],
   "source": [
    "# rightnow the shape of each file is (32L,32L,3)\n",
    "# using np.shape(X[0])\n",
    "# now to visualize what it is like, we need to convert it to the shape (3,32,32)\n",
    "Xas = Y[500]\n",
    "# np.shape(X[3]) gives (32L,32L,3)\n",
    "#Xas.resize((64,64,3),refcheck=False)\n",
    "np.shape(Xas)"
   ]
  },
  {
   "cell_type": "code",
   "execution_count": 185,
   "metadata": {
    "collapsed": false
   },
   "outputs": [
    {
     "data": {
      "text/plain": [
       "True"
      ]
     },
     "execution_count": 185,
     "metadata": {},
     "output_type": "execute_result"
    }
   ],
   "source": [
    "cv2.imwrite('messigra1y.png',Xas)"
   ]
  },
  {
   "cell_type": "code",
   "execution_count": 183,
   "metadata": {
    "collapsed": false
   },
   "outputs": [],
   "source": [
    "cv2.namedWindow('image', cv2.WINDOW_NORMAL)\n",
    "cv2.imshow('image',Xas)\n",
    "cv2.waitKey(0)\n",
    "cv2.destroyAllWindows()"
   ]
  },
  {
   "cell_type": "code",
   "execution_count": 103,
   "metadata": {
    "collapsed": false
   },
   "outputs": [],
   "source": [
    "img_lr = cv2.imread(l_r_files_list[i])\n",
    "img_lr_zoomed = cv2.resize(img_lr, None,fx=2,fy=2, interpolation = cv2.INTER_CUBIC)\n",
    "img_hr = cv2.imread(h_r_files_list[i])\n",
    "# Now we need to convert it to YCbCr\n",
    "img_lr_zoomed = cv2.cvtColor(img_lr_zoomed, cv2.COLOR_BGR2YCR_CB)\n",
    "img_hr = cv2.cvtColor(img_hr, cv2.COLOR_BGR2YCR_CB)\n",
    "img_lr_zoomed.resize((3,480,320), refcheck=False)\n",
    "#img_hr = img_hr.resize((3,480,320), refcheck=False)"
   ]
  },
  {
   "cell_type": "code",
   "execution_count": 133,
   "metadata": {
    "collapsed": false
   },
   "outputs": [],
   "source": [
    "Xas = X[1]\n",
    "Yas =Y[1]"
   ]
  },
  {
   "cell_type": "code",
   "execution_count": 135,
   "metadata": {
    "collapsed": false
   },
   "outputs": [],
   "source": [
    "Yas.resize(32,32,3)\n",
    "Xas.resize(32,32,3)"
   ]
  },
  {
   "cell_type": "code",
   "execution_count": 150,
   "metadata": {
    "collapsed": false
   },
   "outputs": [],
   "source": [
    "cv2.destroyAllWindows()"
   ]
  }
 ],
 "metadata": {
  "kernelspec": {
   "display_name": "Python [Root]",
   "language": "python",
   "name": "Python [Root]"
  },
  "language_info": {
   "codemirror_mode": {
    "name": "ipython",
    "version": 2
   },
   "file_extension": ".py",
   "mimetype": "text/x-python",
   "name": "python",
   "nbconvert_exporter": "python",
   "pygments_lexer": "ipython2",
   "version": "2.7.12"
  }
 },
 "nbformat": 4,
 "nbformat_minor": 0
}
